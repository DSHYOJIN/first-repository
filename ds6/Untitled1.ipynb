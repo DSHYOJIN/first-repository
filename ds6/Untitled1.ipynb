{
  "nbformat": 4,
  "nbformat_minor": 0,
  "metadata": {
    "colab": {
      "provenance": [],
      "authorship_tag": "ABX9TyN06dpph9/+MwBs3kZihAJP",
      "include_colab_link": true
    },
    "kernelspec": {
      "name": "python3",
      "display_name": "Python 3"
    },
    "language_info": {
      "name": "python"
    }
  },
  "cells": [
    {
      "cell_type": "markdown",
      "metadata": {
        "id": "view-in-github",
        "colab_type": "text"
      },
      "source": [
        "<a href=\"https://colab.research.google.com/github/morerule/first-repository/blob/master/ds6/Untitled1.ipynb\" target=\"_parent\"><img src=\"https://colab.research.google.com/assets/colab-badge.svg\" alt=\"Open In Colab\"/></a>"
      ]
    },
    {
      "cell_type": "code",
      "execution_count": null,
      "metadata": {
        "id": "4kkgh8bwbhXq"
      },
      "outputs": [],
      "source": [
        "from collections import Counter\n",
        "\n",
        "# 텍스트 정리 함수\n",
        "def clean_text(s):\n",
        "    return \"\".join(ch for ch in s.lower() if ch.isalnum() or ch.isspace())\n",
        "\n",
        "# 1: 파일 읽기 → 정리 → 단어 인덱스 매핑\n",
        "text = clean_text(open(\"Avengers.txt\", encoding=\"utf-8\").read())\n",
        "vocab = {word: idx for idx, (word, _) in enumerate(Counter(text.split()).most_common())}\n",
        "\n",
        "# 2: 입력 루프\n",
        "print(\"영어 문장을 입력하면 숫자 리스트로 변환됩니다. (종료: exit)\")\n",
        "while True:\n",
        "    s = input(\"문장: \").strip()\n",
        "    if s.lower() == \"exit\":\n",
        "        break\n",
        "    print([vocab.get(w, None) for w in clean_text(s).split()])\n"
      ]
    }
  ]
}