{
  "nbformat": 4,
  "nbformat_minor": 0,
  "metadata": {
    "colab": {
      "provenance": [],
      "authorship_tag": "ABX9TyPvKbWPrsXLryBHAADy0HA5",
      "include_colab_link": true
    },
    "kernelspec": {
      "name": "python3",
      "display_name": "Python 3"
    },
    "language_info": {
      "name": "python"
    }
  },
  "cells": [
    {
      "cell_type": "markdown",
      "metadata": {
        "id": "view-in-github",
        "colab_type": "text"
      },
      "source": [
        "<a href=\"https://colab.research.google.com/github/morerule/first-repository/blob/master/ds6/Untitled1.ipynb\" target=\"_parent\"><img src=\"https://colab.research.google.com/assets/colab-badge.svg\" alt=\"Open In Colab\"/></a>"
      ]
    },
    {
      "cell_type": "code",
      "execution_count": null,
      "metadata": {
        "id": "4kkgh8bwbhXq"
      },
      "outputs": [],
      "source": [
        "from collections import Counter\n",
        "\n",
        "# 1. 파일 읽기 & 소문자 변환\n",
        "text = open(\"Avengers.txt\", \"r\", encoding=\"utf-8\").read().lower()\n",
        "\n",
        "# 2. 기호 제거 (알파벳·숫자·공백만 남김)\n",
        "text = \"\".join(ch for ch in text if ch.isalnum() or ch.isspace())\n",
        "\n",
        "# 3. 단어 빈도수 세기 (Counter 사용)\n",
        "word_counts = Counter(text.split())\n",
        "\n",
        "# 4. 단어 → 인덱스 매핑\n",
        "vocab = {word: idx for idx, (word, _) in enumerate(word_counts.most_common())}\n",
        "inv_vocab = {idx: word for word, idx in vocab.items()}\n",
        "\n",
        "# 5. 인코더 함수 (없는 단어는 None)\n",
        "def encoder(sentence):\n",
        "    sentence = \"\".join(ch for ch in sentence.lower() if ch.isalnum() or ch.isspace())\n",
        "    return [vocab.get(w, None) for w in sentence.split()]\n",
        "\n",
        "# 6. 무한 입력 루프\n",
        "print(\"영어 문장을 입력하면 숫자 리스트로 변환됩니다. (종료: exit)\")\n",
        "while True:\n",
        "    s = input(\"문장: \").strip().lower()\n",
        "    if s == \"exit\":\n",
        "        break\n",
        "    encoded = encoder(s)\n",
        "    print(\"Encoded:\", encoded)"
      ]
    }
  ]
}