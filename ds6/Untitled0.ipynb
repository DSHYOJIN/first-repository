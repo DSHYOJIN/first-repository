{
  "nbformat": 4,
  "nbformat_minor": 0,
  "metadata": {
    "colab": {
      "provenance": [],
      "include_colab_link": true
    },
    "kernelspec": {
      "name": "python3",
      "display_name": "Python 3"
    },
    "language_info": {
      "name": "python"
    }
  },
  "cells": [
    {
      "cell_type": "markdown",
      "metadata": {
        "id": "view-in-github",
        "colab_type": "text"
      },
      "source": [
        "<a href=\"https://colab.research.google.com/github/morerule/first-repository/blob/master/ds6/Untitled0.ipynb\" target=\"_parent\"><img src=\"https://colab.research.google.com/assets/colab-badge.svg\" alt=\"Open In Colab\"/></a>"
      ]
    },
    {
      "cell_type": "code",
      "execution_count": null,
      "metadata": {
        "colab": {
          "base_uri": "https://localhost:8080/"
        },
        "id": "wiTTOxhH_RGF",
        "outputId": "2447faef-8bfb-4a0e-8a17-4caf3349d941"
      },
      "outputs": [
        {
          "output_type": "stream",
          "name": "stdout",
          "text": [
            "hello\n"
          ]
        }
      ],
      "source": [
        "print(\"hello\")"
      ]
    },
    {
      "cell_type": "code",
      "source": [
        "import random\n",
        "\n"
      ],
      "metadata": {
        "id": "ALqPyXXpCZx0"
      },
      "execution_count": null,
      "outputs": []
    },
    {
      "cell_type": "code",
      "source": [
        "# 정답숫자 다섯자리 생성\n",
        "answer = random.saple(range(0, 10, 5))\n",
        "print(\"게임이 시작되었습니다! 5자리 숫자를 맞춰보세요\")"
      ],
      "metadata": {
        "id": "BOKqNCa_FHCG"
      },
      "execution_count": null,
      "outputs": []
    },
    {
      "cell_type": "code",
      "source": [
        "while True\n",
        "# 사용자 입력\n",
        "guess = input (\"5자리 숫자를 입력하세:\")\n",
        "\n",
        "# 유효성 검사\n",
        "if not guess.isdigit() or len(guess) !=5:\n",
        "  print(\"잘못된 입력입니다. 5자리 숫자를 입력하세요\")\n",
        "  continue\n",
        "\n",
        "guess = [int(d) for d in guess] # 문자열 숫자리스트\n",
        "\n"
      ],
      "metadata": {
        "id": "IplfbZGeFdwK"
      },
      "execution_count": null,
      "outputs": []
    },
    {
      "cell_type": "code",
      "source": [
        "# strike, ball 계산\n",
        "strike = sum([a == g for a, g in zip(answer, guess)])\n",
        "ball = sum([g in answer)and (g != answer[i]) for i, g in enumerate(guess)])\n",
        "# 결과출력\n",
        "print(f\"{strike} strike, {ball} Ball\")\n"
      ],
      "metadata": {
        "id": "aW2F7i3qIsz_"
      },
      "execution_count": null,
      "outputs": []
    },
    {
      "cell_type": "code",
      "source": [
        "# 정답확인\n",
        "if strike == 5:\n",
        "  print(\"정답입니다! 게임을 종료합니다.\")\n",
        "  break"
      ],
      "metadata": {
        "id": "49ypo6f3JbEO"
      },
      "execution_count": null,
      "outputs": []
    }
  ]
}